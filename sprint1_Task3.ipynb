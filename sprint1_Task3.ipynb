{
 "cells": [
  {
   "cell_type": "markdown",
   "metadata": {},
   "source": [
    "# Question 1\n",
    "Write a Python program to count the number of characters (character frequency) in a string.\n",
    "\n",
    "Examble: ('google.com') =>  {'g': 2, 'o': 3, 'l': 1, 'e': 1, '.': 1, 'c': 1, 'm': 1}\n"
   ]
  },
  {
   "cell_type": "code",
   "execution_count": 3,
   "metadata": {},
   "outputs": [
    {
     "name": "stdout",
     "output_type": "stream",
     "text": [
      "Count of all characters in str is :{'g': 2, 'o': 3, 'l': 1, 'e': 1, '.': 1, 'c': 1, 'm': 1}\n"
     ]
    }
   ],
   "source": [
    "test_str = \"google.com\"\n",
    "   \n",
    "all_freq = {}\n",
    "  \n",
    "for i in test_str:\n",
    "    if i in all_freq:\n",
    "        all_freq[i] += 1\n",
    "    else:\n",
    "        all_freq[i] = 1\n",
    "\n",
    "print (\"Count of all characters in str is :\"+  str(all_freq))"
   ]
  },
  {
   "cell_type": "markdown",
   "metadata": {},
   "source": [
    "# Question  2"
   ]
  },
  {
   "cell_type": "raw",
   "metadata": {},
   "source": [
    "\n",
    "Write a Python program to get a string from a given string where all occurrences of its first char have been changed to '$', except the first char itself.\n",
    "\n",
    "Examble => 'restart' => 'resta$t'\n",
    "           'google'  => 'goo$le'"
   ]
  },
  {
   "cell_type": "code",
   "execution_count": null,
   "metadata": {},
   "outputs": [],
   "source": []
  },
  {
   "cell_type": "markdown",
   "metadata": {},
   "source": [
    "# Question 3"
   ]
  },
  {
   "cell_type": "raw",
   "metadata": {},
   "source": [
    "Write a Python program to get a single string from two given strings, separated by a space and swap the first two characters of each string.\n",
    "Examble : 'abc', 'xyz' => xyc abz"
   ]
  },
  {
   "cell_type": "code",
   "execution_count": null,
   "metadata": {},
   "outputs": [],
   "source": []
  },
  {
   "cell_type": "markdown",
   "metadata": {},
   "source": [
    "# Question 4"
   ]
  },
  {
   "cell_type": "raw",
   "metadata": {},
   "source": [
    "Write a Python program to add 'ing' at the end of a given string (length should be at least 3). If the given string already ends with 'ing' then add 'ly' instead. If the string length of the given string is less than 3, leave it unchanged.\n",
    "Examble => ab => ab\n",
    "        => abc => abcing \n",
    "        => string => stringly"
   ]
  },
  {
   "cell_type": "code",
   "execution_count": null,
   "metadata": {},
   "outputs": [],
   "source": []
  },
  {
   "cell_type": "markdown",
   "metadata": {},
   "source": [
    "# Question 5"
   ]
  },
  {
   "cell_type": "markdown",
   "metadata": {},
   "source": [
    "Write a Python script to display the various Date Time formats.\n",
    "\n",
    "a) Current date and time\n",
    "b) Current year\n",
    "c) Month of year\n",
    "d) Week number of the year\n",
    "e) Weekday of the week\n",
    "f) Day of year\n",
    "g) Day of the month\n",
    "h) Day of week\n",
    "Solution=>\n",
    "import time\n",
    "import datetime"
   ]
  },
  {
   "cell_type": "code",
   "execution_count": null,
   "metadata": {},
   "outputs": [],
   "source": []
  },
  {
   "cell_type": "markdown",
   "metadata": {},
   "source": [
    "# Question 6"
   ]
  },
  {
   "cell_type": "markdown",
   "metadata": {},
   "source": [
    "Write a Python program to print yesterday, today, tomorrow.\n",
    "\n",
    "Yesterday :  2020-01-17\n",
    "Today :  2020-01-18\n",
    "Tomorrow :  2020-01-19\n",
    "Solution=>\n",
    "import datetime"
   ]
  },
  {
   "cell_type": "code",
   "execution_count": 22,
   "metadata": {},
   "outputs": [
    {
     "name": "stdout",
     "output_type": "stream",
     "text": [
      "Yesterday =  2022-04-07\n",
      "Today =  2022-04-08\n",
      "Tomorrow =  2022-04-09\n"
     ]
    }
   ],
   "source": [
    "from datetime import datetime, timedelta\n",
    "presentday = datetime.now()\n",
    "yesterday = presentday - timedelta(1)\n",
    "tomorrow = presentday + timedelta(1)\n",
    "print(\"Yesterday = \", yesterday.strftime('%Y-%m-%d'))\n",
    "print(\"Today = \", presentday.strftime('%Y-%m-%d'))\n",
    "print(\"Tomorrow = \", tomorrow.strftime('%Y-%m-%d'))"
   ]
  },
  {
   "cell_type": "markdown",
   "metadata": {},
   "source": [
    "# Question 7"
   ]
  },
  {
   "cell_type": "markdown",
   "metadata": {},
   "source": [
    "\n",
    "Write a Python program to add 5 seconds with the current time.\n",
    "\n",
    "\n",
    "Current time=> 13:09:38.491219\n",
    "After 5 seconds => 13:09:43.491219"
   ]
  },
  {
   "cell_type": "code",
   "execution_count": 30,
   "metadata": {},
   "outputs": [
    {
     "name": "stdout",
     "output_type": "stream",
     "text": [
      "Current time=> 2022-04-08 07:56:11.544016 \n",
      "\n",
      "After 5 seconds => 2022-04-08 07:56:16.546711\n"
     ]
    }
   ],
   "source": [
    "from datetime import datetime, timedelta  \n",
    "  \n",
    "present_time = datetime.now()  \n",
    "  \n",
    "'{:%H:%M:%S}'.format( present_time )    \n",
    "   \n",
    "#print(\"Present time at greenwich meridian is \", end = \"\")  \n",
    "print(\"Current time=>\" , present_time , \"\\n\")\n",
    "  \n",
    "updated_time = datetime.now() + timedelta(seconds=5)\n",
    "print(\"After 5 seconds =>\", updated_time )"
   ]
  },
  {
   "cell_type": "markdown",
   "metadata": {},
   "source": [
    "# Question 8"
   ]
  },
  {
   "cell_type": "code",
   "execution_count": null,
   "metadata": {},
   "outputs": [],
   "source": [
    "Write a Python program to convert Year/Month/Day to Day of Year."
   ]
  },
  {
   "cell_type": "code",
   "execution_count": null,
   "metadata": {},
   "outputs": [],
   "source": []
  },
  {
   "cell_type": "markdown",
   "metadata": {},
   "source": [
    "# Question 9"
   ]
  },
  {
   "cell_type": "raw",
   "metadata": {},
   "source": [
    "Write a Python program to get current time in milliseconds."
   ]
  },
  {
   "cell_type": "code",
   "execution_count": 14,
   "metadata": {},
   "outputs": [
    {
     "name": "stdout",
     "output_type": "stream",
     "text": [
      "Time in milliseconds 1649392459073\n"
     ]
    }
   ],
   "source": [
    "from time import time\n",
    "milliseconds = int(time() * 1000)  \n",
    "print(\"Time in milliseconds\", milliseconds)"
   ]
  },
  {
   "cell_type": "markdown",
   "metadata": {},
   "source": [
    "# Question 10"
   ]
  },
  {
   "cell_type": "raw",
   "metadata": {},
   "source": [
    "Write a Python program to get week number."
   ]
  },
  {
   "cell_type": "code",
   "execution_count": 11,
   "metadata": {},
   "outputs": [
    {
     "name": "stdout",
     "output_type": "stream",
     "text": [
      "12\n"
     ]
    }
   ],
   "source": [
    "import datetime\n",
    "a_date = datetime.date(2000, 3, 23)\n",
    "week_number = a_date.isocalendar()[1]\n",
    "print(week_number)"
   ]
  },
  {
   "cell_type": "markdown",
   "metadata": {},
   "source": [
    "# Question 11"
   ]
  },
  {
   "cell_type": "raw",
   "metadata": {},
   "source": [
    "Write a Python program that matches a string that has an 'a' followed by anything, ending in 'b'."
   ]
  },
  {
   "cell_type": "code",
   "execution_count": 6,
   "metadata": {},
   "outputs": [
    {
     "name": "stdout",
     "output_type": "stream",
     "text": [
      "enter a string atrnjyjgy\n",
      "no match found\n"
     ]
    }
   ],
   "source": [
    "import re\n",
    "my_string = input('enter a string ')\n",
    "p = re.compile('a.*?b$')\n",
    "m = p.search(my_string)\n",
    "if m:\n",
    "    print('it\\'s a match')\n",
    "else:\n",
    "    print('no match found')"
   ]
  },
  {
   "cell_type": "markdown",
   "metadata": {},
   "source": [
    "# Question 12"
   ]
  },
  {
   "cell_type": "code",
   "execution_count": null,
   "metadata": {},
   "outputs": [],
   "source": []
  },
  {
   "cell_type": "raw",
   "metadata": {},
   "source": [
    "Write a Python program to calculate the area of a trapezoid."
   ]
  },
  {
   "cell_type": "code",
   "execution_count": 4,
   "metadata": {},
   "outputs": [
    {
     "name": "stdout",
     "output_type": "stream",
     "text": [
      "Area is: 54.0\n"
     ]
    }
   ],
   "source": [
    "def Area(b1, b2, h):\n",
    "    return ((b1 + b2) / 2) * h\n",
    " \n",
    "base1 = 8; base2 = 10; height = 6\n",
    "area = Area(base1, base2, height)\n",
    "print(\"Area is:\", area)"
   ]
  },
  {
   "cell_type": "code",
   "execution_count": null,
   "metadata": {},
   "outputs": [],
   "source": []
  },
  {
   "cell_type": "code",
   "execution_count": null,
   "metadata": {},
   "outputs": [],
   "source": []
  },
  {
   "cell_type": "code",
   "execution_count": null,
   "metadata": {},
   "outputs": [],
   "source": []
  }
 ],
 "metadata": {
  "kernelspec": {
   "display_name": "Python 3",
   "language": "python",
   "name": "python3"
  },
  "language_info": {
   "codemirror_mode": {
    "name": "ipython",
    "version": 3
   },
   "file_extension": ".py",
   "mimetype": "text/x-python",
   "name": "python",
   "nbconvert_exporter": "python",
   "pygments_lexer": "ipython3",
   "version": "3.8.8"
  }
 },
 "nbformat": 4,
 "nbformat_minor": 2
}
